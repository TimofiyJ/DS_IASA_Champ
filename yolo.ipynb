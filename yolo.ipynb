{
 "cells": [
  {
   "cell_type": "code",
   "execution_count": 14,
   "metadata": {},
   "outputs": [],
   "source": [
    "from ultralytics import YOLO\n",
    "import os\n",
    "import cv2\n",
    "import numpy as np\n",
    "import pandas as pd"
   ]
  },
  {
   "cell_type": "code",
   "execution_count": 8,
   "metadata": {},
   "outputs": [],
   "source": [
    "model = YOLO('./yolov8m-cls.pt')"
   ]
  },
  {
   "cell_type": "code",
   "execution_count": 10,
   "metadata": {},
   "outputs": [
    {
     "name": "stdout",
     "output_type": "stream",
     "text": [
      "New https://pypi.org/project/ultralytics/8.1.9 available 😃 Update with 'pip install -U ultralytics'\n",
      "Ultralytics YOLOv8.0.231 🚀 Python-3.11.4 torch-2.0.1+cpu CPU (11th Gen Intel Core(TM) i7-1165G7 2.80GHz)\n",
      "\u001b[34m\u001b[1mengine\\trainer: \u001b[0mtask=classify, mode=train, model=./yolov8m-cls.pt, data=./data/ui_icons_dataset/, epochs=1, time=None, patience=50, batch=16, imgsz=224, save=True, save_period=-1, cache=False, device=None, workers=8, project=None, name=train6, exist_ok=False, pretrained=True, optimizer=auto, verbose=True, seed=0, deterministic=True, single_cls=False, rect=False, cos_lr=False, close_mosaic=10, resume=False, amp=True, fraction=1.0, profile=False, freeze=None, overlap_mask=True, mask_ratio=4, dropout=0.0, val=True, split=val, save_json=False, save_hybrid=False, conf=None, iou=0.7, max_det=300, half=False, dnn=False, plots=True, source=None, vid_stride=1, stream_buffer=False, visualize=False, augment=False, agnostic_nms=False, classes=None, retina_masks=False, embed=None, show=False, save_frames=False, save_txt=False, save_conf=False, save_crop=False, show_labels=True, show_conf=True, show_boxes=True, line_width=None, format=torchscript, keras=False, optimize=False, int8=False, dynamic=False, simplify=False, opset=None, workspace=4, nms=False, lr0=0.01, lrf=0.01, momentum=0.937, weight_decay=0.0005, warmup_epochs=3.0, warmup_momentum=0.8, warmup_bias_lr=0.1, box=7.5, cls=0.5, dfl=1.5, pose=12.0, kobj=1.0, label_smoothing=0.0, nbs=64, hsv_h=0.015, hsv_s=0.7, hsv_v=0.4, degrees=0.0, translate=0.1, scale=0.5, shear=0.0, perspective=0.0, flipud=0.0, fliplr=0.5, mosaic=1.0, mixup=0.0, copy_paste=0.0, cfg=None, tracker=botsort.yaml, save_dir=runs\\classify\\train6\n",
      "\u001b[34m\u001b[1mtrain:\u001b[0m C:\\Users\\Tymof\\OneDrive\\Desktop\\education\\Practice\\Hackaton\\data\\ui_icons_dataset\\train... found 13868 images in 21 classes ✅ \n",
      "\u001b[34m\u001b[1mval:\u001b[0m C:\\Users\\Tymof\\OneDrive\\Desktop\\education\\Practice\\Hackaton\\data\\ui_icons_dataset\\validation... found 1531 images in 21 classes ✅ \n",
      "\u001b[34m\u001b[1mtest:\u001b[0m C:\\Users\\Tymof\\OneDrive\\Desktop\\education\\Practice\\Hackaton\\data\\ui_icons_dataset\\test... found 5143 images in 1 classes: ERROR ❌️ requires 21 classes, not 1\n",
      "\n",
      "                   from  n    params  module                                       arguments                     \n",
      "  0                  -1  1      1392  ultralytics.nn.modules.conv.Conv             [3, 48, 3, 2]                 \n",
      "  1                  -1  1     41664  ultralytics.nn.modules.conv.Conv             [48, 96, 3, 2]                \n",
      "  2                  -1  2    111360  ultralytics.nn.modules.block.C2f             [96, 96, 2, True]             \n",
      "  3                  -1  1    166272  ultralytics.nn.modules.conv.Conv             [96, 192, 3, 2]               \n",
      "  4                  -1  4    813312  ultralytics.nn.modules.block.C2f             [192, 192, 4, True]           \n",
      "  5                  -1  1    664320  ultralytics.nn.modules.conv.Conv             [192, 384, 3, 2]              \n",
      "  6                  -1  4   3248640  ultralytics.nn.modules.block.C2f             [384, 384, 4, True]           \n",
      "  7                  -1  1   2655744  ultralytics.nn.modules.conv.Conv             [384, 768, 3, 2]              \n",
      "  8                  -1  2   7084032  ultralytics.nn.modules.block.C2f             [768, 768, 2, True]           \n",
      "  9                  -1  1   1012501  ultralytics.nn.modules.head.Classify         [768, 21]                     \n",
      "YOLOv8m-cls summary: 141 layers, 15799237 parameters, 15799237 gradients, 41.9 GFLOPs\n",
      "Transferred 230/230 items from pretrained weights\n",
      "\u001b[34m\u001b[1mTensorBoard: \u001b[0mStart with 'tensorboard --logdir runs\\classify\\train6', view at http://localhost:6006/\n"
     ]
    },
    {
     "name": "stderr",
     "output_type": "stream",
     "text": [
      "\u001b[34m\u001b[1mtrain: \u001b[0mScanning C:\\Users\\Tymof\\OneDrive\\Desktop\\education\\Practice\\Hackaton\\data\\ui_icons_dataset\\train... 13868 images, 0 corrupt: 100%|██████████| 13868/13868 [00:00<?, ?it/s]\n",
      "\u001b[34m\u001b[1mval: \u001b[0mScanning C:\\Users\\Tymof\\OneDrive\\Desktop\\education\\Practice\\Hackaton\\data\\ui_icons_dataset\\validation... 1531 images, 0 corrupt: 100%|██████████| 1531/1531 [00:00<?, ?it/s]"
     ]
    },
    {
     "name": "stdout",
     "output_type": "stream",
     "text": [
      "\u001b[34m\u001b[1moptimizer:\u001b[0m 'optimizer=auto' found, ignoring 'lr0=0.01' and 'momentum=0.937' and determining best 'optimizer', 'lr0' and 'momentum' automatically... \n",
      "\u001b[34m\u001b[1moptimizer:\u001b[0m AdamW(lr=0.000714, momentum=0.9) with parameter groups 38 weight(decay=0.0), 39 weight(decay=0.0005), 39 bias(decay=0.0)\n"
     ]
    },
    {
     "name": "stderr",
     "output_type": "stream",
     "text": [
      "\n"
     ]
    },
    {
     "name": "stdout",
     "output_type": "stream",
     "text": [
      "1 epochs...\n",
      "\n",
      "      Epoch    GPU_mem       loss  Instances       Size\n"
     ]
    },
    {
     "name": "stderr",
     "output_type": "stream",
     "text": [
      "        1/1         0G      1.519         12        224: 100%|██████████| 867/867 [53:18<00:00,  3.69s/it]  \n",
      "               classes   top1_acc   top5_acc: 100%|██████████| 48/48 [03:21<00:00,  4.21s/it]\n"
     ]
    },
    {
     "name": "stdout",
     "output_type": "stream",
     "text": [
      "                   all      0.813      0.977\n",
      "\n",
      "1 epochs completed in 0.948 hours.\n",
      "Optimizer stripped from runs\\classify\\train6\\weights\\last.pt, 31.7MB\n",
      "Optimizer stripped from runs\\classify\\train6\\weights\\best.pt, 31.7MB\n",
      "\n",
      "Validating runs\\classify\\train6\\weights\\best.pt...\n",
      "Ultralytics YOLOv8.0.231 🚀 Python-3.11.4 torch-2.0.1+cpu CPU (11th Gen Intel Core(TM) i7-1165G7 2.80GHz)\n",
      "YOLOv8m-cls summary (fused): 103 layers, 15789557 parameters, 0 gradients, 41.7 GFLOPs\n",
      "\u001b[34m\u001b[1mtrain:\u001b[0m C:\\Users\\Tymof\\OneDrive\\Desktop\\education\\Practice\\Hackaton\\data\\ui_icons_dataset\\train... found 13868 images in 21 classes ✅ \n",
      "\u001b[34m\u001b[1mval:\u001b[0m C:\\Users\\Tymof\\OneDrive\\Desktop\\education\\Practice\\Hackaton\\data\\ui_icons_dataset\\validation... found 1531 images in 21 classes ✅ \n",
      "\u001b[34m\u001b[1mtest:\u001b[0m C:\\Users\\Tymof\\OneDrive\\Desktop\\education\\Practice\\Hackaton\\data\\ui_icons_dataset\\test... found 5143 images in 1 classes: ERROR ❌️ requires 21 classes, not 1\n"
     ]
    },
    {
     "name": "stderr",
     "output_type": "stream",
     "text": [
      "               classes   top1_acc   top5_acc: 100%|██████████| 48/48 [02:37<00:00,  3.27s/it]\n"
     ]
    },
    {
     "name": "stdout",
     "output_type": "stream",
     "text": [
      "                   all      0.813      0.977\n",
      "Speed: 0.0ms preprocess, 99.3ms inference, 0.0ms loss, 0.0ms postprocess per image\n",
      "Results saved to \u001b[1mruns\\classify\\train6\u001b[0m\n",
      "Results saved to \u001b[1mruns\\classify\\train6\u001b[0m\n"
     ]
    },
    {
     "data": {
      "text/plain": [
       "ultralytics.utils.metrics.ClassifyMetrics object with attributes:\n",
       "\n",
       "confusion_matrix: <ultralytics.utils.metrics.ConfusionMatrix object at 0x00000210F23888D0>\n",
       "curves: []\n",
       "curves_results: []\n",
       "fitness: 0.8948399722576141\n",
       "keys: ['metrics/accuracy_top1', 'metrics/accuracy_top5']\n",
       "results_dict: {'metrics/accuracy_top1': 0.8125408291816711, 'metrics/accuracy_top5': 0.9771391153335571, 'fitness': 0.8948399722576141}\n",
       "save_dir: WindowsPath('runs/classify/train6')\n",
       "speed: {'preprocess': 0.0019601402058467454, 'inference': 99.33193581778578, 'loss': 0.0, 'postprocess': 0.0}\n",
       "task: 'classify'\n",
       "top1: 0.8125408291816711\n",
       "top5: 0.9771391153335571"
      ]
     },
     "execution_count": 10,
     "metadata": {},
     "output_type": "execute_result"
    }
   ],
   "source": [
    "model.train(data=\"./data/ui_icons_dataset/\",epochs = 1, imgsz=224)"
   ]
  },
  {
   "cell_type": "code",
   "execution_count": 37,
   "metadata": {},
   "outputs": [
    {
     "name": "stdout",
     "output_type": "stream",
     "text": [
      "\n",
      "image 1/1 c:\\Users\\Tymof\\OneDrive\\Desktop\\education\\Practice\\Hackaton\\data\\ui_icons_dataset\\test\\test\\0a0d2e24-fba2-4bb4-afea-faffbbe98ee7.jpg: 224x224 slider 0.98, dropdown_menu 0.01, label 0.00, switch_enabled 0.00, text_field 0.00, 137.9ms\n",
      "Speed: 1.0ms preprocess, 137.9ms inference, 0.0ms postprocess per image at shape (1, 3, 224, 224)\n"
     ]
    }
   ],
   "source": [
    "results = model(\"./data/ui_icons_dataset/test/test/0a0d2e24-fba2-4bb4-afea-faffbbe98ee7.jpg\")\n",
    "names = model.names"
   ]
  },
  {
   "cell_type": "code",
   "execution_count": 42,
   "metadata": {},
   "outputs": [
    {
     "name": "stdout",
     "output_type": "stream",
     "text": [
      "slider\n"
     ]
    }
   ],
   "source": [
    "print(names[results[0].probs.top1])"
   ]
  },
  {
   "cell_type": "code",
   "execution_count": null,
   "metadata": {},
   "outputs": [],
   "source": [
    "\n",
    "base_dir = \"./data/ui_icons_dataset/\"\n",
    "test_dir = os.path.join(base_dir, \"test/test\")\n",
    "train_dir = os.path.join(base_dir, \"train/\")\n",
    "names = model.names\n",
    "\n",
    "IDs2 = []\n",
    "Target2 = []\n",
    "\n",
    "for i in range(len(os.listdir(test_dir))):\n",
    "    image = cv2.imread(os.path.join(test_dir,os.listdir(test_dir)[i]))\n",
    "    results = model(os.path.join(test_dir,os.listdir(test_dir)[i]))\n",
    "    Target2.append(names[results[0].probs.top1])\n",
    "            \n",
    "df2 = pd.DataFrame({'ID': IDs2, 'Target': Target2})\n"
   ]
  },
  {
   "cell_type": "code",
   "execution_count": null,
   "metadata": {},
   "outputs": [],
   "source": [
    "df2.to_csv('predictions_yolo.csv', index=False)\n"
   ]
  }
 ],
 "metadata": {
  "kernelspec": {
   "display_name": "Python 3",
   "language": "python",
   "name": "python3"
  },
  "language_info": {
   "codemirror_mode": {
    "name": "ipython",
    "version": 3
   },
   "file_extension": ".py",
   "mimetype": "text/x-python",
   "name": "python",
   "nbconvert_exporter": "python",
   "pygments_lexer": "ipython3",
   "version": "3.11.4"
  }
 },
 "nbformat": 4,
 "nbformat_minor": 2
}
